{
  "nbformat": 4,
  "nbformat_minor": 0,
  "metadata": {
    "colab": {
      "name": "Time Series.ipynb",
      "provenance": [],
      "collapsed_sections": [],
      "toc_visible": true,
      "authorship_tag": "ABX9TyOWrbqYjX+zc8p8dsWhtY8f",
      "include_colab_link": true
    },
    "kernelspec": {
      "name": "python3",
      "display_name": "Python 3"
    },
    "accelerator": "GPU"
  },
  "cells": [
    {
      "cell_type": "markdown",
      "metadata": {
        "id": "view-in-github",
        "colab_type": "text"
      },
      "source": [
        "<a href=\"https://colab.research.google.com/github/truonghoangduy/Image-Processing-with-Python/blob/master/Time_Series.ipynb\" target=\"_parent\"><img src=\"https://colab.research.google.com/assets/colab-badge.svg\" alt=\"Open In Colab\"/></a>"
      ]
    },
    {
      "cell_type": "code",
      "metadata": {
        "id": "BiAYDyzlQwpL",
        "colab_type": "code",
        "colab": {}
      },
      "source": [
        "import torch\n",
        "import torch.nn as nn\n",
        "\n",
        "# import seaborn as sns\n",
        "import numpy as np\n",
        "import pandas as pd\n",
        "import matplotlib.pyplot as plt\n",
        "# Debuger \n",
        "import pdb"
      ],
      "execution_count": 0,
      "outputs": []
    },
    {
      "cell_type": "code",
      "metadata": {
        "id": "_fsd4GO3ROtQ",
        "colab_type": "code",
        "outputId": "5a827973-05e3-4f54-b99b-3d255b3ae0dc",
        "colab": {
          "base_uri": "https://localhost:8080/",
          "height": 238
        }
      },
      "source": [
        "pip install yfinance"
      ],
      "execution_count": 0,
      "outputs": [
        {
          "output_type": "stream",
          "text": [
            "Requirement already satisfied: yfinance in /usr/local/lib/python3.6/dist-packages (0.1.54)\n",
            "Requirement already satisfied: numpy>=1.15 in /usr/local/lib/python3.6/dist-packages (from yfinance) (1.18.4)\n",
            "Requirement already satisfied: pandas>=0.24 in /usr/local/lib/python3.6/dist-packages (from yfinance) (1.0.3)\n",
            "Requirement already satisfied: requests>=2.20 in /usr/local/lib/python3.6/dist-packages (from yfinance) (2.23.0)\n",
            "Requirement already satisfied: multitasking>=0.0.7 in /usr/local/lib/python3.6/dist-packages (from yfinance) (0.0.9)\n",
            "Requirement already satisfied: python-dateutil>=2.6.1 in /usr/local/lib/python3.6/dist-packages (from pandas>=0.24->yfinance) (2.8.1)\n",
            "Requirement already satisfied: pytz>=2017.2 in /usr/local/lib/python3.6/dist-packages (from pandas>=0.24->yfinance) (2018.9)\n",
            "Requirement already satisfied: idna<3,>=2.5 in /usr/local/lib/python3.6/dist-packages (from requests>=2.20->yfinance) (2.9)\n",
            "Requirement already satisfied: certifi>=2017.4.17 in /usr/local/lib/python3.6/dist-packages (from requests>=2.20->yfinance) (2020.4.5.1)\n",
            "Requirement already satisfied: urllib3!=1.25.0,!=1.25.1,<1.26,>=1.21.1 in /usr/local/lib/python3.6/dist-packages (from requests>=2.20->yfinance) (1.24.3)\n",
            "Requirement already satisfied: chardet<4,>=3.0.2 in /usr/local/lib/python3.6/dist-packages (from requests>=2.20->yfinance) (3.0.4)\n",
            "Requirement already satisfied: six>=1.5 in /usr/local/lib/python3.6/dist-packages (from python-dateutil>=2.6.1->pandas>=0.24->yfinance) (1.12.0)\n"
          ],
          "name": "stdout"
        }
      ]
    },
    {
      "cell_type": "code",
      "metadata": {
        "id": "FrkaCfshSa3e",
        "colab_type": "code",
        "colab": {}
      },
      "source": [
        "import yfinance as yf\n"
      ],
      "execution_count": 0,
      "outputs": []
    },
    {
      "cell_type": "markdown",
      "metadata": {
        "id": "UFf3t79Aix7s",
        "colab_type": "text"
      },
      "source": [
        "# Dataset Description"
      ]
    },
    {
      "cell_type": "code",
      "metadata": {
        "id": "tE92nzsfT1j3",
        "colab_type": "code",
        "outputId": "624fd68d-eae3-43f1-ba1a-3d0460b2be9a",
        "colab": {
          "base_uri": "https://localhost:8080/",
          "height": 34
        }
      },
      "source": [
        "data = yf.download(\"GOOG\",\"2018-1-1\",\"2020-6-2\")\n"
      ],
      "execution_count": 0,
      "outputs": [
        {
          "output_type": "stream",
          "text": [
            "\r[*********************100%***********************]  1 of 1 completed\n"
          ],
          "name": "stdout"
        }
      ]
    },
    {
      "cell_type": "code",
      "metadata": {
        "id": "RCAYKJdnedgM",
        "colab_type": "code",
        "outputId": "0232b339-8078-4036-a268-beed571e27a4",
        "colab": {
          "base_uri": "https://localhost:8080/",
          "height": 34
        }
      },
      "source": [
        "data.columns"
      ],
      "execution_count": 0,
      "outputs": [
        {
          "output_type": "execute_result",
          "data": {
            "text/plain": [
              "Index(['Open', 'High', 'Low', 'Close', 'Adj Close', 'Volume'], dtype='object')"
            ]
          },
          "metadata": {
            "tags": []
          },
          "execution_count": 307
        }
      ]
    },
    {
      "cell_type": "code",
      "metadata": {
        "id": "FTz8aVWCAnCS",
        "colab_type": "code",
        "outputId": "b82739d2-5177-43e2-f6ea-c3003bc386e2",
        "colab": {
          "base_uri": "https://localhost:8080/",
          "height": 225
        }
      },
      "source": [
        "data.head()"
      ],
      "execution_count": 0,
      "outputs": [
        {
          "output_type": "execute_result",
          "data": {
            "text/html": [
              "<div>\n",
              "<style scoped>\n",
              "    .dataframe tbody tr th:only-of-type {\n",
              "        vertical-align: middle;\n",
              "    }\n",
              "\n",
              "    .dataframe tbody tr th {\n",
              "        vertical-align: top;\n",
              "    }\n",
              "\n",
              "    .dataframe thead th {\n",
              "        text-align: right;\n",
              "    }\n",
              "</style>\n",
              "<table border=\"1\" class=\"dataframe\">\n",
              "  <thead>\n",
              "    <tr style=\"text-align: right;\">\n",
              "      <th></th>\n",
              "      <th>Open</th>\n",
              "      <th>High</th>\n",
              "      <th>Low</th>\n",
              "      <th>Close</th>\n",
              "      <th>Adj Close</th>\n",
              "      <th>Volume</th>\n",
              "    </tr>\n",
              "    <tr>\n",
              "      <th>Date</th>\n",
              "      <th></th>\n",
              "      <th></th>\n",
              "      <th></th>\n",
              "      <th></th>\n",
              "      <th></th>\n",
              "      <th></th>\n",
              "    </tr>\n",
              "  </thead>\n",
              "  <tbody>\n",
              "    <tr>\n",
              "      <th>2018-01-02</th>\n",
              "      <td>1048.339966</td>\n",
              "      <td>1066.939941</td>\n",
              "      <td>1045.229980</td>\n",
              "      <td>1065.000000</td>\n",
              "      <td>1065.000000</td>\n",
              "      <td>1237600</td>\n",
              "    </tr>\n",
              "    <tr>\n",
              "      <th>2018-01-03</th>\n",
              "      <td>1064.310059</td>\n",
              "      <td>1086.290039</td>\n",
              "      <td>1063.209961</td>\n",
              "      <td>1082.479980</td>\n",
              "      <td>1082.479980</td>\n",
              "      <td>1430200</td>\n",
              "    </tr>\n",
              "    <tr>\n",
              "      <th>2018-01-04</th>\n",
              "      <td>1088.000000</td>\n",
              "      <td>1093.569946</td>\n",
              "      <td>1084.001953</td>\n",
              "      <td>1086.400024</td>\n",
              "      <td>1086.400024</td>\n",
              "      <td>1004600</td>\n",
              "    </tr>\n",
              "    <tr>\n",
              "      <th>2018-01-05</th>\n",
              "      <td>1094.000000</td>\n",
              "      <td>1104.250000</td>\n",
              "      <td>1092.000000</td>\n",
              "      <td>1102.229980</td>\n",
              "      <td>1102.229980</td>\n",
              "      <td>1279100</td>\n",
              "    </tr>\n",
              "    <tr>\n",
              "      <th>2018-01-08</th>\n",
              "      <td>1102.229980</td>\n",
              "      <td>1111.270020</td>\n",
              "      <td>1101.619995</td>\n",
              "      <td>1106.939941</td>\n",
              "      <td>1106.939941</td>\n",
              "      <td>1047600</td>\n",
              "    </tr>\n",
              "  </tbody>\n",
              "</table>\n",
              "</div>"
            ],
            "text/plain": [
              "                   Open         High  ...    Adj Close   Volume\n",
              "Date                                  ...                      \n",
              "2018-01-02  1048.339966  1066.939941  ...  1065.000000  1237600\n",
              "2018-01-03  1064.310059  1086.290039  ...  1082.479980  1430200\n",
              "2018-01-04  1088.000000  1093.569946  ...  1086.400024  1004600\n",
              "2018-01-05  1094.000000  1104.250000  ...  1102.229980  1279100\n",
              "2018-01-08  1102.229980  1111.270020  ...  1106.939941  1047600\n",
              "\n",
              "[5 rows x 6 columns]"
            ]
          },
          "metadata": {
            "tags": []
          },
          "execution_count": 308
        }
      ]
    },
    {
      "cell_type": "code",
      "metadata": {
        "id": "AZq9B5lheYyz",
        "colab_type": "code",
        "outputId": "fb823f94-f506-4ec1-a686-b6601424b05f",
        "colab": {
          "base_uri": "https://localhost:8080/",
          "height": 225
        }
      },
      "source": [
        "data.tail()"
      ],
      "execution_count": 0,
      "outputs": [
        {
          "output_type": "execute_result",
          "data": {
            "text/html": [
              "<div>\n",
              "<style scoped>\n",
              "    .dataframe tbody tr th:only-of-type {\n",
              "        vertical-align: middle;\n",
              "    }\n",
              "\n",
              "    .dataframe tbody tr th {\n",
              "        vertical-align: top;\n",
              "    }\n",
              "\n",
              "    .dataframe thead th {\n",
              "        text-align: right;\n",
              "    }\n",
              "</style>\n",
              "<table border=\"1\" class=\"dataframe\">\n",
              "  <thead>\n",
              "    <tr style=\"text-align: right;\">\n",
              "      <th></th>\n",
              "      <th>Open</th>\n",
              "      <th>High</th>\n",
              "      <th>Low</th>\n",
              "      <th>Close</th>\n",
              "      <th>Adj Close</th>\n",
              "      <th>Volume</th>\n",
              "    </tr>\n",
              "    <tr>\n",
              "      <th>Date</th>\n",
              "      <th></th>\n",
              "      <th></th>\n",
              "      <th></th>\n",
              "      <th></th>\n",
              "      <th></th>\n",
              "      <th></th>\n",
              "    </tr>\n",
              "  </thead>\n",
              "  <tbody>\n",
              "    <tr>\n",
              "      <th>2020-05-26</th>\n",
              "      <td>1437.270020</td>\n",
              "      <td>1441.000000</td>\n",
              "      <td>1412.130005</td>\n",
              "      <td>1417.020020</td>\n",
              "      <td>1417.020020</td>\n",
              "      <td>2060600</td>\n",
              "    </tr>\n",
              "    <tr>\n",
              "      <th>2020-05-27</th>\n",
              "      <td>1417.250000</td>\n",
              "      <td>1421.739990</td>\n",
              "      <td>1391.290039</td>\n",
              "      <td>1417.839966</td>\n",
              "      <td>1417.839966</td>\n",
              "      <td>1685800</td>\n",
              "    </tr>\n",
              "    <tr>\n",
              "      <th>2020-05-28</th>\n",
              "      <td>1396.859985</td>\n",
              "      <td>1440.839966</td>\n",
              "      <td>1396.000000</td>\n",
              "      <td>1416.729980</td>\n",
              "      <td>1416.729980</td>\n",
              "      <td>1692200</td>\n",
              "    </tr>\n",
              "    <tr>\n",
              "      <th>2020-05-29</th>\n",
              "      <td>1416.939941</td>\n",
              "      <td>1432.569946</td>\n",
              "      <td>1413.349976</td>\n",
              "      <td>1428.920044</td>\n",
              "      <td>1428.920044</td>\n",
              "      <td>1838100</td>\n",
              "    </tr>\n",
              "    <tr>\n",
              "      <th>2020-06-01</th>\n",
              "      <td>1418.390015</td>\n",
              "      <td>1437.959961</td>\n",
              "      <td>1418.390015</td>\n",
              "      <td>1431.819946</td>\n",
              "      <td>1431.819946</td>\n",
              "      <td>1217140</td>\n",
              "    </tr>\n",
              "  </tbody>\n",
              "</table>\n",
              "</div>"
            ],
            "text/plain": [
              "                   Open         High  ...    Adj Close   Volume\n",
              "Date                                  ...                      \n",
              "2020-05-26  1437.270020  1441.000000  ...  1417.020020  2060600\n",
              "2020-05-27  1417.250000  1421.739990  ...  1417.839966  1685800\n",
              "2020-05-28  1396.859985  1440.839966  ...  1416.729980  1692200\n",
              "2020-05-29  1416.939941  1432.569946  ...  1428.920044  1838100\n",
              "2020-06-01  1418.390015  1437.959961  ...  1431.819946  1217140\n",
              "\n",
              "[5 rows x 6 columns]"
            ]
          },
          "metadata": {
            "tags": []
          },
          "execution_count": 309
        }
      ]
    },
    {
      "cell_type": "code",
      "metadata": {
        "id": "7tN66GboBt6y",
        "colab_type": "code",
        "outputId": "6e999cb6-cc4f-484e-c062-eebc4bf3827f",
        "colab": {
          "base_uri": "https://localhost:8080/",
          "height": 134
        }
      },
      "source": [
        "data.count()"
      ],
      "execution_count": 0,
      "outputs": [
        {
          "output_type": "execute_result",
          "data": {
            "text/plain": [
              "Open         607\n",
              "High         607\n",
              "Low          607\n",
              "Close        607\n",
              "Adj Close    607\n",
              "Volume       607\n",
              "dtype: int64"
            ]
          },
          "metadata": {
            "tags": []
          },
          "execution_count": 310
        }
      ]
    },
    {
      "cell_type": "code",
      "metadata": {
        "id": "cS0GQdkJeEnm",
        "colab_type": "code",
        "colab": {}
      },
      "source": [
        ""
      ],
      "execution_count": 0,
      "outputs": []
    },
    {
      "cell_type": "code",
      "metadata": {
        "id": "7QPDdepkd92F",
        "colab_type": "code",
        "colab": {}
      },
      "source": [
        "data_stockOpen = data[\"Open\"]"
      ],
      "execution_count": 0,
      "outputs": []
    },
    {
      "cell_type": "code",
      "metadata": {
        "id": "CMuiRivyeK-M",
        "colab_type": "code",
        "outputId": "f78e3e37-2904-4917-fe80-d23db2cb9c06",
        "colab": {
          "base_uri": "https://localhost:8080/",
          "height": 134
        }
      },
      "source": [
        "data_stockOpen.tail()"
      ],
      "execution_count": 0,
      "outputs": [
        {
          "output_type": "execute_result",
          "data": {
            "text/plain": [
              "Date\n",
              "2020-05-26    1437.270020\n",
              "2020-05-27    1417.250000\n",
              "2020-05-28    1396.859985\n",
              "2020-05-29    1416.939941\n",
              "2020-06-01    1418.390015\n",
              "Name: Open, dtype: float64"
            ]
          },
          "metadata": {
            "tags": []
          },
          "execution_count": 312
        }
      ]
    },
    {
      "cell_type": "code",
      "metadata": {
        "id": "hfxsbrNLGAhD",
        "colab_type": "code",
        "outputId": "f1cefe0a-c0b5-4b0f-b7ec-0b73469e1493",
        "colab": {
          "base_uri": "https://localhost:8080/",
          "height": 501
        }
      },
      "source": [
        "data_stockOpen.plot(\n",
        "    title=\"Google Stock on OPEN\",\n",
        "    figsize=(20,10)\n",
        ")"
      ],
      "execution_count": 0,
      "outputs": [
        {
          "output_type": "execute_result",
          "data": {
            "text/plain": [
              "<matplotlib.axes._subplots.AxesSubplot at 0x7f9790c62d30>"
            ]
          },
          "metadata": {
            "tags": []
          },
          "execution_count": 313
        },
        {
          "output_type": "display_data",
          "data": {
            "image/png": "[encoded data removed]",
            "text/plain": [
              "<Figure size 1440x720 with 1 Axes>"
            ]
          },
          "metadata": {
            "tags": [],
            "needs_background": "light"
          }
        }
      ]
    },
    {
      "cell_type": "markdown",
      "metadata": {
        "id": "moHSVk5fi7P-",
        "colab_type": "text"
      },
      "source": [
        "# Train - Test slipter"
      ]
    },
    {
      "cell_type": "code",
      "metadata": {
        "id": "bb5YxZivi_qa",
        "colab_type": "code",
        "colab": {}
      },
      "source": [
        "SLIPT_RATE = 0.1\n",
        "testSlipt = round(data_stockOpen.count()*SLIPT_RATE)\n",
        "# testData = data_stockOpen.tail(testSlipt)\n",
        "testSet=data_stockOpen.tail(int(testSlipt))\n",
        "trainSet= data_stockOpen.head(int(data_stockOpen.count()-testSlipt))\n",
        "TRAIN_WINDOW = int(testSet.count())"
      ],
      "execution_count": 0,
      "outputs": []
    },
    {
      "cell_type": "code",
      "metadata": {
        "id": "dgTpekWlmxBW",
        "colab_type": "code",
        "outputId": "ae852988-5e76-46d9-bd6c-2cb648f05e4c",
        "colab": {
          "base_uri": "https://localhost:8080/",
          "height": 67
        }
      },
      "source": [
        "print(f'Dataset Open Stock lenght : ',data_stockOpen.count())\n",
        "print(f'Train Set lenght: ',trainSet.count())\n",
        "print(f'Test Set lenght: ',testSet.count())"
      ],
      "execution_count": 0,
      "outputs": [
        {
          "output_type": "stream",
          "text": [
            "Dataset Open Stock lenght :  607\n",
            "Train Set lenght:  546\n",
            "Test Set lenght:  61\n"
          ],
          "name": "stdout"
        }
      ]
    },
    {
      "cell_type": "code",
      "metadata": {
        "id": "z_34YWenloW-",
        "colab_type": "code",
        "outputId": "dda07920-d0ba-4caa-b0ff-bbfe98005204",
        "colab": {
          "base_uri": "https://localhost:8080/",
          "height": 134
        }
      },
      "source": [
        "trainSet.tail()"
      ],
      "execution_count": 0,
      "outputs": [
        {
          "output_type": "execute_result",
          "data": {
            "text/plain": [
              "Date\n",
              "2020-02-27    1362.060059\n",
              "2020-02-28    1277.500000\n",
              "2020-03-02    1351.609985\n",
              "2020-03-03    1399.420044\n",
              "2020-03-04    1359.229980\n",
              "Name: Open, dtype: float64"
            ]
          },
          "metadata": {
            "tags": []
          },
          "execution_count": 316
        }
      ]
    },
    {
      "cell_type": "code",
      "metadata": {
        "id": "Rwoz6lG6ls_E",
        "colab_type": "code",
        "outputId": "66b8c719-fa89-4017-81ee-cdbb87b8068d",
        "colab": {
          "base_uri": "https://localhost:8080/",
          "height": 134
        }
      },
      "source": [
        "testSet.head()"
      ],
      "execution_count": 0,
      "outputs": [
        {
          "output_type": "execute_result",
          "data": {
            "text/plain": [
              "Date\n",
              "2020-03-05    1350.199951\n",
              "2020-03-06    1277.060059\n",
              "2020-03-09    1205.300049\n",
              "2020-03-10    1260.000000\n",
              "2020-03-11    1249.699951\n",
              "Name: Open, dtype: float64"
            ]
          },
          "metadata": {
            "tags": []
          },
          "execution_count": 317
        }
      ]
    },
    {
      "cell_type": "markdown",
      "metadata": {
        "id": "8LTcuI5Mme_t",
        "colab_type": "text"
      },
      "source": [
        "# **Neural Net Section**"
      ]
    },
    {
      "cell_type": "code",
      "metadata": {
        "id": "NAS4OdHeEKW2",
        "colab_type": "code",
        "colab": {}
      },
      "source": [
        "# Neural Net\n",
        "from torch.nn import LSTM,LSTMCell\n",
        "from torch import optim as optimizer\n",
        "from torch.nn import functional as F\n",
        "# Data preprocessing\n",
        "import sklearn\n",
        "from sklearn.preprocessing import MinMaxScaler\n"
      ],
      "execution_count": 0,
      "outputs": []
    },
    {
      "cell_type": "code",
      "metadata": {
        "id": "zyvWQ2C01rXo",
        "colab_type": "code",
        "outputId": "9f20d6eb-23b1-408c-be3b-a62838277802",
        "colab": {
          "base_uri": "https://localhost:8080/",
          "height": 34
        }
      },
      "source": [
        "torch.cuda.get_device_name(0)"
      ],
      "execution_count": 0,
      "outputs": [
        {
          "output_type": "execute_result",
          "data": {
            "text/plain": [
              "'Tesla P100-PCIE-16GB'"
            ]
          },
          "metadata": {
            "tags": []
          },
          "execution_count": 319
        }
      ]
    },
    {
      "cell_type": "markdown",
      "metadata": {
        "id": "0Lsa5V-vgqT0",
        "colab_type": "text"
      },
      "source": [
        "# **Preprocessing**\n",
        "transfrom the dataset to -1,1 represenation"
      ]
    },
    {
      "cell_type": "code",
      "metadata": {
        "id": "1GYA_m1kgpj8",
        "colab_type": "code",
        "colab": {}
      },
      "source": [
        "scaler = MinMaxScaler(feature_range=(-1, 1)) # minize data range to -1,1 optimize perfomnce for NN"
      ],
      "execution_count": 0,
      "outputs": []
    },
    {
      "cell_type": "code",
      "metadata": {
        "id": "9YoymgTegynF",
        "colab_type": "code",
        "colab": {}
      },
      "source": [
        "# data_stockOpen.values.reshape(-1,1)\n",
        "#pandas.core.series.Series\n",
        "train_data_normalize = scaler.fit_transform(trainSet.values.reshape(-1,1))"
      ],
      "execution_count": 0,
      "outputs": []
    },
    {
      "cell_type": "code",
      "metadata": {
        "id": "zUSNUCkNh4gd",
        "colab_type": "code",
        "colab": {}
      },
      "source": [
        "train_data_normalize\n",
        "# train_data_normalize.min()"
      ],
      "execution_count": 0,
      "outputs": []
    },
    {
      "cell_type": "code",
      "metadata": {
        "id": "aIc9RPXMNy_s",
        "colab_type": "code",
        "outputId": "62b2bb38-9021-40d6-a501-3a6e1a9c44ad",
        "colab": {
          "base_uri": "https://localhost:8080/",
          "height": 34
        }
      },
      "source": [
        "train_data_normalize.max()"
      ],
      "execution_count": 0,
      "outputs": [
        {
          "output_type": "execute_result",
          "data": {
            "text/plain": [
              "1.0"
            ]
          },
          "metadata": {
            "tags": []
          },
          "execution_count": 323
        }
      ]
    },
    {
      "cell_type": "markdown",
      "metadata": {
        "id": "yY2qp8IJtF1c",
        "colab_type": "text"
      },
      "source": [
        "# **Load in to Tensor**"
      ]
    },
    {
      "cell_type": "code",
      "metadata": {
        "id": "2jEdXuqxtNU_",
        "colab_type": "code",
        "colab": {}
      },
      "source": [
        "# trainSet_Tensor = torch.from_numpy(train_data_normalize).view(-1) # flip back to 1 dims\n",
        "trainSet_Tensor = torch.FloatTensor(train_data_normalize).view(-1) # flip back to 1 dims\n"
      ],
      "execution_count": 0,
      "outputs": []
    },
    {
      "cell_type": "code",
      "metadata": {
        "id": "Tdv_G_5XtNfd",
        "colab_type": "code",
        "colab": {}
      },
      "source": [
        "# trainSet_Tensor.view(-1)"
      ],
      "execution_count": 0,
      "outputs": []
    },
    {
      "cell_type": "code",
      "metadata": {
        "id": "h8-_Y5_uCpAL",
        "colab_type": "code",
        "colab": {}
      },
      "source": [
        "# class Model(nn.Module):\n",
        "#   def __init__(self,n_feture,n_hidden_layer,):\n",
        "#     super(Model, self).__init__()\n",
        "#     self.n_feture = n_feture\n",
        "#     self.n_hidden_layer = n_hidden_layer\n",
        "#     self.lstm = nn.LSTM(input_size=,hidden_size=,)\n",
        "#     self.lstmCell= nn.LSTMCell(n_feture,n_hidden_layer)\n",
        "#     self.linear = nn.Linear(self.hidden_size, self.output_size)\n",
        "\n",
        "#   def forward(self, input, future=0, y=None):\n",
        "#     output=[]\n",
        "#     return output\n"
      ],
      "execution_count": 0,
      "outputs": []
    },
    {
      "cell_type": "code",
      "metadata": {
        "id": "tmrepoDFLphf",
        "colab_type": "code",
        "colab": {}
      },
      "source": [
        "# opti = optimizer.Adam()"
      ],
      "execution_count": 0,
      "outputs": []
    },
    {
      "cell_type": "code",
      "metadata": {
        "id": "aCUMtjEuIieP",
        "colab_type": "code",
        "colab": {}
      },
      "source": [
        "# rnn = nn.LSTM(10, 20, 2)"
      ],
      "execution_count": 0,
      "outputs": []
    },
    {
      "cell_type": "code",
      "metadata": {
        "id": "7t2Y9d-PIjdp",
        "colab_type": "code",
        "colab": {}
      },
      "source": [
        "# a=rnn.flatten_parameters()"
      ],
      "execution_count": 0,
      "outputs": []
    },
    {
      "cell_type": "code",
      "metadata": {
        "id": "dokIeY5gcZXB",
        "colab_type": "code",
        "colab": {}
      },
      "source": [
        ""
      ],
      "execution_count": 0,
      "outputs": []
    },
    {
      "cell_type": "code",
      "metadata": {
        "id": "FJbCcYLxI4vO",
        "colab_type": "code",
        "colab": {}
      },
      "source": [
        "# rnn = nn.LSTM(10, 20, 2)\n",
        "# input = torch.randn(5, 3, 10)\n",
        "# h0 = torch.randn(2, 3, 20)\n",
        "# c0 = torch.randn(2, 3, 20)\n",
        "# output, (hn, cn) = rnn(input, (h0, c0))"
      ],
      "execution_count": 0,
      "outputs": []
    },
    {
      "cell_type": "code",
      "metadata": {
        "id": "OmwcrQeWJQjU",
        "colab_type": "code",
        "colab": {}
      },
      "source": [
        ""
      ],
      "execution_count": 0,
      "outputs": []
    },
    {
      "cell_type": "code",
      "metadata": {
        "id": "rNDTSK6uI_Me",
        "colab_type": "code",
        "colab": {}
      },
      "source": [
        "# type(input)\n",
        "# b =torch.tensor([2,23,5])"
      ],
      "execution_count": 0,
      "outputs": []
    },
    {
      "cell_type": "code",
      "metadata": {
        "id": "ovlHpTILKpa0",
        "colab_type": "code",
        "colab": {}
      },
      "source": [
        "# b.size(0)\n"
      ],
      "execution_count": 0,
      "outputs": []
    },
    {
      "cell_type": "code",
      "metadata": {
        "id": "JLXUKuKcbXuP",
        "colab_type": "code",
        "colab": {}
      },
      "source": [
        "# b.view(-1)\n",
        "# trainSet_Tensor"
      ],
      "execution_count": 0,
      "outputs": []
    },
    {
      "cell_type": "markdown",
      "metadata": {
        "id": "L6DMy7OksRK1",
        "colab_type": "text"
      },
      "source": [
        "# **Model**"
      ]
    },
    {
      "cell_type": "code",
      "metadata": {
        "id": "67nwcXpdvjTA",
        "colab_type": "code",
        "colab": {}
      },
      "source": [
        "class LSTM(nn.Module):\n",
        "    def __init__(self, input_size=1, hidden_layer_size=100, output_size=1):\n",
        "        super().__init__()\n",
        "        self.hidden_layer_size = hidden_layer_size\n",
        "        # ,dropout=0.2,num_layers=2\n",
        "        self.lstm1 = nn.LSTM(input_size, hidden_layer_size,num_layers=2,dropout=0.2)\n",
        "\n",
        "        # self.lstm2= nn.LSTM(input_size, hidden_layer_size)\n",
        "\n",
        "        self.linear = nn.Linear(hidden_layer_size, output_size)\n",
        "\n",
        "        self.hidden_cell = (torch.zeros(2,1,self.hidden_layer_size),\n",
        "                            torch.zeros(2,1,self.hidden_layer_size))\n",
        "\n",
        "    def forward(self, input_seq,future=1):\n",
        "        lstm_out, self.hidden_cell = self.lstm1(input_seq.view(len(input_seq) ,1, -1), self.hidden_cell)\n",
        "        # self.lstm2()\n",
        "        # pdb.set_trace()\n",
        "        predictions = self.linear(lstm_out.view(len(input_seq), -1))\n",
        "        # pdb.set_trace()\n",
        "        return predictions[-1]\n"
      ],
      "execution_count": 0,
      "outputs": []
    },
    {
      "cell_type": "code",
      "metadata": {
        "id": "69IHTrAO6Ywj",
        "colab_type": "code",
        "outputId": "d6342513-c77c-4b29-f97e-a15c4f097bba",
        "colab": {
          "base_uri": "https://localhost:8080/",
          "height": 34
        }
      },
      "source": [
        "m = nn.Linear(20, 30)\n",
        "input = torch.randn(128, 20)  \n",
        "output = m(input)  \n",
        "print(output.size())"
      ],
      "execution_count": 0,
      "outputs": [
        {
          "output_type": "stream",
          "text": [
            "torch.Size([128, 30])\n"
          ],
          "name": "stdout"
        }
      ]
    },
    {
      "cell_type": "code",
      "metadata": {
        "id": "aFNXWzG7Txci",
        "colab_type": "code",
        "outputId": "4b1bf65b-b839-4c6f-a28a-0710f893013b",
        "colab": {
          "base_uri": "https://localhost:8080/",
          "height": 34
        }
      },
      "source": [
        "m"
      ],
      "execution_count": 0,
      "outputs": [
        {
          "output_type": "execute_result",
          "data": {
            "text/plain": [
              "Linear(in_features=20, out_features=30, bias=True)"
            ]
          },
          "metadata": {
            "tags": []
          },
          "execution_count": 336
        }
      ]
    },
    {
      "cell_type": "markdown",
      "metadata": {
        "id": "Bs93bHhNvmnX",
        "colab_type": "text"
      },
      "source": [
        "**Tutorial RUN**"
      ]
    },
    {
      "cell_type": "code",
      "metadata": {
        "id": "cq9iUL9Lvu8W",
        "colab_type": "code",
        "colab": {}
      },
      "source": [
        "def create_inout_sequences(input_data, tw):\n",
        "    inout_seq = []\n",
        "    L = len(input_data)\n",
        "    # pdb.set_trace()\n",
        "    for i in range(L-tw):\n",
        "        train_seq = input_data[i:i+tw]\n",
        "        train_label = input_data[i+tw:i+tw+1] # add-in next day for train eval()\n",
        "        inout_seq.append((train_seq ,train_label)) #tuple \n",
        "    return inout_seq"
      ],
      "execution_count": 0,
      "outputs": []
    },
    {
      "cell_type": "code",
      "metadata": {
        "id": "PZcP2DWqvwA8",
        "colab_type": "code",
        "colab": {}
      },
      "source": [
        "train_inout_seq = create_inout_sequences(trainSet_Tensor, TRAIN_WINDOW)"
      ],
      "execution_count": 0,
      "outputs": []
    },
    {
      "cell_type": "code",
      "metadata": {
        "id": "x0euB7tT0dHy",
        "colab_type": "code",
        "colab": {}
      },
      "source": [
        "a = torch.zeros(2,30)"
      ],
      "execution_count": 0,
      "outputs": []
    },
    {
      "cell_type": "code",
      "metadata": {
        "id": "VR6o-j2e0j2u",
        "colab_type": "code",
        "outputId": "b1376496-a968-47eb-9aad-9f56fb80b049",
        "colab": {
          "base_uri": "https://localhost:8080/",
          "height": 84
        }
      },
      "source": [
        "a"
      ],
      "execution_count": 0,
      "outputs": [
        {
          "output_type": "execute_result",
          "data": {
            "text/plain": [
              "tensor([[0., 0., 0., 0., 0., 0., 0., 0., 0., 0., 0., 0., 0., 0., 0., 0., 0., 0., 0., 0., 0., 0., 0., 0.,\n",
              "         0., 0., 0., 0., 0., 0.],\n",
              "        [0., 0., 0., 0., 0., 0., 0., 0., 0., 0., 0., 0., 0., 0., 0., 0., 0., 0., 0., 0., 0., 0., 0., 0.,\n",
              "         0., 0., 0., 0., 0., 0.]])"
            ]
          },
          "metadata": {
            "tags": []
          },
          "execution_count": 340
        }
      ]
    },
    {
      "cell_type": "code",
      "metadata": {
        "id": "To-i1yByNlc1",
        "colab_type": "code",
        "colab": {}
      },
      "source": [
        "train_inout_seq\n",
        "# [-7.2988e-01, -6.7193e-01, -5.8597e-01, -5.6420e-01, -5.3434e-01,\n",
        "#         -5.0832e-01, -5.5295e-01, -5.1957e-01, -5.3368e-01, -4.2446e-01,"
      ],
      "execution_count": 0,
      "outputs": []
    },
    {
      "cell_type": "code",
      "metadata": {
        "id": "-0jMLKmLMtP8",
        "colab_type": "code",
        "colab": {}
      },
      "source": [
        ""
      ],
      "execution_count": 0,
      "outputs": []
    },
    {
      "cell_type": "code",
      "metadata": {
        "id": "Rut_uuxOwJrt",
        "colab_type": "code",
        "colab": {}
      },
      "source": [
        "# trainSet_Tensor\n",
        "# train_inout_seq[:2]\n",
        "# train_inout_seq = train_inout_seq.c"
      ],
      "execution_count": 0,
      "outputs": []
    },
    {
      "cell_type": "code",
      "metadata": {
        "id": "BNUJoOQ7vpkS",
        "colab_type": "code",
        "colab": {}
      },
      "source": [
        "model = LSTM().cuda()\n",
        "loss_function = nn.MSELoss(reduction='mean')\n",
        "optimizer = torch.optim.Adam(model.parameters(),lr=0.01)"
      ],
      "execution_count": 0,
      "outputs": []
    },
    {
      "cell_type": "markdown",
      "metadata": {
        "id": "lVYi56P4uWwn",
        "colab_type": "text"
      },
      "source": [
        "# **Training**"
      ]
    },
    {
      "cell_type": "code",
      "metadata": {
        "id": "JvJV6CVeuYrJ",
        "colab_type": "code",
        "colab": {}
      },
      "source": [
        "EPOCHS = 500\n",
        "lostGraph= []\n",
        "model.train()\n",
        "for epoch in range(EPOCHS):\n",
        "    correct=0;\n",
        "    total =0;\n",
        "    for seq, labels in train_inout_seq:\n",
        "        optimizer.zero_grad()\n",
        "        model.hidden_cell = (torch.zeros(2, 1, model.hidden_layer_size).cuda(),\n",
        "                        torch.zeros(2, 1, model.hidden_layer_size).cuda())\n",
        "        # dbtrain=pdb.set_trace()\n",
        "\n",
        "        y_pred = model(seq.cuda())\n",
        "        single_loss = loss_function(y_pred.cuda(), labels.cuda())\n",
        "        # pdb.set_trace()\n",
        "        total+=labels.size(0)\n",
        "        if(y_pred.cuda() == labels.cuda()):\n",
        "          # pdb.set_trace()\n",
        "          correct+=1\n",
        "        # pdb.set_trace()\n",
        "        # correct+=(y_pred.cuda() == labels.cuda()).sum()\n",
        "\n",
        "        single_loss.backward(retain_graph=True)\n",
        "        optimizer.step()\n",
        "    accurtiy = correct / total *100\n",
        "    # pdb.set_trace()\n",
        "\n",
        "    lostGraph.append(single_loss.item())\n",
        "    print(f'Epoch: {epoch+1}/{EPOCHS} loss: {single_loss.item():10.8f}')\n",
        "\n",
        "# print(f'epoch: {i:3} loss: {single_loss.item():10.10f}')"
      ],
      "execution_count": 0,
      "outputs": []
    },
    {
      "cell_type": "code",
      "metadata": {
        "id": "Vj4P5FFvu_T0",
        "colab_type": "code",
        "colab": {}
      },
      "source": [
        "# models = model.modules\n",
        "# lostGraph\n",
        "arrayy = np.array(\n",
        "        [\n",
        "        [-0.0547],#0\n",
        "        [-0.0592],#1\n",
        "        [-0.0597],\n",
        "        [-0.0594],\n",
        "        [-0.0586],\n",
        "        [-0.0577],\n",
        "        [-0.0579],\n",
        "        [-0.0574],\n",
        "        [-0.0573],\n",
        "        [-0.0555],\n",
        "        [-0.0551],\n",
        "        [-0.0546]\n",
        "        ])"
      ],
      "execution_count": 0,
      "outputs": []
    },
    {
      "cell_type": "code",
      "metadata": {
        "id": "HWuIKAQjQCS5",
        "colab_type": "code",
        "colab": {}
      },
      "source": [
        "arr = arrayy.flatten()"
      ],
      "execution_count": 0,
      "outputs": []
    },
    {
      "cell_type": "code",
      "metadata": {
        "id": "WKe2578LUO4m",
        "colab_type": "code",
        "colab": {}
      },
      "source": [
        ""
      ],
      "execution_count": 0,
      "outputs": []
    },
    {
      "cell_type": "code",
      "metadata": {
        "id": "_L_plt0CUUPP",
        "colab_type": "code",
        "colab": {}
      },
      "source": [
        ""
      ],
      "execution_count": 0,
      "outputs": []
    },
    {
      "cell_type": "code",
      "metadata": {
        "id": "6mGfWJsC6BLw",
        "colab_type": "code",
        "colab": {
          "base_uri": "https://localhost:8080/",
          "height": 300
        },
        "outputId": "664de653-8672-400c-974a-32725ae3292d"
      },
      "source": [
        "title = \"Loss\"\n",
        "plt.title=title\n",
        "plt.ylabel('Loss')\n",
        "plt.xlabel('Epoch')\n",
        "plt.plot(lostGraph)\n"
      ],
      "execution_count": 347,
      "outputs": [
        {
          "output_type": "execute_result",
          "data": {
            "text/plain": [
              "[<matplotlib.lines.Line2D at 0x7f9790c3d8d0>]"
            ]
          },
          "metadata": {
            "tags": []
          },
          "execution_count": 347
        },
        {
          "output_type": "display_data",
          "data": {
            "image/png": "[encoded data removed]",
            "text/plain": [
              "<Figure size 432x288 with 1 Axes>"
            ]
          },
          "metadata": {
            "tags": [],
            "needs_background": "light"
          }
        }
      ]
    },
    {
      "cell_type": "markdown",
      "metadata": {
        "id": "B6p8MScqJ04H",
        "colab_type": "text"
      },
      "source": [
        "## **Prediction**"
      ]
    },
    {
      "cell_type": "code",
      "metadata": {
        "id": "E4yi8jY9M4mx",
        "colab_type": "code",
        "colab": {
          "base_uri": "https://localhost:8080/",
          "height": 55
        },
        "outputId": "661676fb-3701-47e0-a042-aee2a9165c69"
      },
      "source": [
        "fut_pred = 1\n",
        "test_inputs = trainSet_Tensor[-TRAIN_WINDOW:].tolist()\n",
        "print(test_inputs)"
      ],
      "execution_count": 348,
      "outputs": [
        {
          "output_type": "stream",
          "text": [
            "[0.2849031090736389, 0.3046427369117737, 0.3213348686695099, 0.33388981223106384, 0.36778125166893005, 0.35000079870224, 0.3572944104671478, 0.3883194923400879, 0.4115065932273865, 0.3886822760105133, 0.37133723497390747, 0.41317564249038696, 0.38603344559669495, 0.35929033160209656, 0.35083577036857605, 0.4118693768978119, 0.3647333085536957, 0.29255950450897217, 0.33407142758369446, 0.356967955827713, 0.3647333085536957, 0.5386903285980225, 0.5174265503883362, 0.6208065748214722, 0.6461712121963501, 0.6772685050964355, 0.6877190470695496, 0.6557868123054504, 0.7183082699775696, 0.7744437456130981, 0.8332639336585999, 0.8763722777366638, 0.8641800880432129, 0.885770320892334, 0.6586535573005676, 0.7021973133087158, 0.7595300674438477, 0.6911661028862, 0.7961792945861816, 0.771141529083252, 0.7532521486282349, 0.7726657390594482, 0.7287951111793518, 0.7903735637664795, 0.8158462643623352, 0.9518845677375793, 0.9615727663040161, 0.9550773501396179, 0.9656368494033813, 0.9634597301483154, 1.0, 0.9888602495193481, 0.9381681680679321, 0.6409094333648682, 0.6659108400344849, 0.5321590304374695, 0.4084949791431427, 0.10165654122829437, 0.3705753684043884, 0.5440611243247986, 0.3982256352901459]\n"
          ],
          "name": "stdout"
        }
      ]
    },
    {
      "cell_type": "code",
      "metadata": {
        "id": "3NMa252xM-f_",
        "colab_type": "code",
        "colab": {
          "base_uri": "https://localhost:8080/",
          "height": 35
        },
        "outputId": "f15b3148-a1f1-48c6-a237-bf143d880c8d"
      },
      "source": [
        "# trainSet_Tensor.size()\n",
        "TRAIN_WINDOW\n"
      ],
      "execution_count": 349,
      "outputs": [
        {
          "output_type": "execute_result",
          "data": {
            "text/plain": [
              "61"
            ]
          },
          "metadata": {
            "tags": []
          },
          "execution_count": 349
        }
      ]
    },
    {
      "cell_type": "code",
      "metadata": {
        "id": "41LtmOddBYnm",
        "colab_type": "code",
        "colab": {}
      },
      "source": [
        "fut_prediction = 1\n",
        "model.eval()\n",
        "for i in range(fut_prediction):\n",
        "    seq = torch.FloatTensor(test_inputs[-TRAIN_WINDOW:]).cuda()\n",
        "    with torch.no_grad():\n",
        "        model.hidden = (torch.zeros(1, 1, model.hidden_layer_size).cuda(),\n",
        "                        torch.zeros(1, 1, model.hidden_layer_size).cuda())\n",
        "        test_inputs.append(model(seq).item())"
      ],
      "execution_count": 0,
      "outputs": []
    },
    {
      "cell_type": "code",
      "metadata": {
        "id": "NjrOkWN3Of2e",
        "colab_type": "code",
        "colab": {
          "base_uri": "https://localhost:8080/",
          "height": 35
        },
        "outputId": "cebcedaa-eb0b-41a7-d2d2-6946feec4a4c"
      },
      "source": [
        "len(test_inputs)\n",
        "TRAIN_WINDOW\n",
        "# test_inputs"
      ],
      "execution_count": 351,
      "outputs": [
        {
          "output_type": "execute_result",
          "data": {
            "text/plain": [
              "61"
            ]
          },
          "metadata": {
            "tags": []
          },
          "execution_count": 351
        }
      ]
    },
    {
      "cell_type": "code",
      "metadata": {
        "id": "T8g1GeClOiVQ",
        "colab_type": "code",
        "colab": {}
      },
      "source": [
        "actual_predictions = scaler.inverse_transform(np.array(test_inputs[-TRAIN_WINDOW:] ).reshape(-1, 1))\n",
        "print(actual_predictions)"
      ],
      "execution_count": 0,
      "outputs": []
    },
    {
      "cell_type": "code",
      "metadata": {
        "id": "0Xnxq2TsTWS7",
        "colab_type": "code",
        "colab": {
          "base_uri": "https://localhost:8080/",
          "height": 35
        },
        "outputId": "b64603c6-464f-4b88-da48-982b7aeace0b"
      },
      "source": [
        "actual_predictions.shape"
      ],
      "execution_count": 353,
      "outputs": [
        {
          "output_type": "execute_result",
          "data": {
            "text/plain": [
              "(61, 1)"
            ]
          },
          "metadata": {
            "tags": []
          },
          "execution_count": 353
        }
      ]
    },
    {
      "cell_type": "code",
      "metadata": {
        "id": "FA9DBJCCTlhA",
        "colab_type": "code",
        "colab": {}
      },
      "source": [
        "# type(data_stockOpen[-TRAIN_WINDOW:].index.copy()"
      ],
      "execution_count": 0,
      "outputs": []
    },
    {
      "cell_type": "code",
      "metadata": {
        "id": "gsVbGtpMVGpo",
        "colab_type": "code",
        "colab": {}
      },
      "source": [
        "\n",
        "data_stockOpen_Predictiom=pd.Series(actual_predictions.flatten(),index=data_stockOpen[-TRAIN_WINDOW:].index.copy())"
      ],
      "execution_count": 0,
      "outputs": []
    },
    {
      "cell_type": "code",
      "metadata": {
        "id": "fYOg9VPpbJ1-",
        "colab_type": "code",
        "colab": {
          "base_uri": "https://localhost:8080/",
          "height": 251
        },
        "outputId": "1ca88545-b3f6-41ce-8e69-3efeebc8286c"
      },
      "source": [
        "data_stockOpen_Predictiom"
      ],
      "execution_count": 356,
      "outputs": [
        {
          "output_type": "execute_result",
          "data": {
            "text/plain": [
              "Date\n",
              "2020-03-05    1333.439942\n",
              "2020-03-06    1338.040043\n",
              "2020-03-09    1341.499996\n",
              "2020-03-10    1350.839967\n",
              "2020-03-11    1345.939942\n",
              "                 ...     \n",
              "2020-05-26    1277.499999\n",
              "2020-05-27    1351.609984\n",
              "2020-05-28    1399.420049\n",
              "2020-05-29    1359.229981\n",
              "2020-06-01    1471.494305\n",
              "Length: 61, dtype: float64"
            ]
          },
          "metadata": {
            "tags": []
          },
          "execution_count": 356
        }
      ]
    },
    {
      "cell_type": "code",
      "metadata": {
        "id": "Agc2c11SSxgv",
        "colab_type": "code",
        "colab": {
          "base_uri": "https://localhost:8080/",
          "height": 266
        },
        "outputId": "53bd99d1-4696-46b4-88ac-9c29aa536473"
      },
      "source": [
        "# x = np.arange(1, 16, 1)\n",
        "plt.title=\"Prediction\"\n",
        "plt.ylabel('Total Passengers')\n",
        "# plt.grid(True)\n",
        "# plt.autoscale(axis='x', tight=True)\n",
        "# plt.figure()\n",
        "plt.plot(data_stockOpen[-TRAIN_WINDOW:])\n",
        "\n",
        "# plt.plot(data_stockOpen_Predictiom)\n",
        "plt.show()\n",
        "# plt.plot(\"help\")"
      ],
      "execution_count": 357,
      "outputs": [
        {
          "output_type": "display_data",
          "data": {
            "image/png": "[encoded data removed]",
            "text/plain": [
              "<Figure size 432x288 with 1 Axes>"
            ]
          },
          "metadata": {
            "tags": [],
            "needs_background": "light"
          }
        }
      ]
    },
    {
      "cell_type": "code",
      "metadata": {
        "id": "2OhZm7HlFZox",
        "colab_type": "code",
        "colab": {
          "base_uri": "https://localhost:8080/",
          "height": 279
        },
        "outputId": "9216f2aa-f7e4-4330-f663-658693c946a2"
      },
      "source": [
        "# x = np.arange(1, 16, 1)\n",
        "plt.title=\"Prediction\"\n",
        "plt.ylabel('Stock Value')\n",
        "plt.xlabel('MM/DD/YY')\n",
        "# plt.grid(True)\n",
        "# plt.autoscale(axis='x', tight=True)\n",
        "# plt.figure()\n",
        "plt.plot(data_stockOpen[-TRAIN_WINDOW:])\n",
        "\n",
        "plt.plot(data_stockOpen_Predictiom)\n",
        "plt.show()\n",
        "# plt.plot(\"help\")"
      ],
      "execution_count": 358,
      "outputs": [
        {
          "output_type": "display_data",
          "data": {
            "image/png": "[encoded data removed]",
            "text/plain": [
              "<Figure size 432x288 with 1 Axes>"
            ]
          },
          "metadata": {
            "tags": [],
            "needs_background": "light"
          }
        }
      ]
    }
  ]
}